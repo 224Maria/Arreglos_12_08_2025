{
  "nbformat": 4,
  "nbformat_minor": 0,
  "metadata": {
    "colab": {
      "provenance": [],
      "authorship_tag": "ABX9TyPNE48VxsqX1HhOXjvmYveu",
      "include_colab_link": true
    },
    "kernelspec": {
      "name": "python3",
      "display_name": "Python 3"
    },
    "language_info": {
      "name": "python"
    }
  },
  "cells": [
    {
      "cell_type": "markdown",
      "metadata": {
        "id": "view-in-github",
        "colab_type": "text"
      },
      "source": [
        "<a href=\"https://colab.research.google.com/github/224Maria/Arreglos_12_08_2025/blob/main/Vectores.ipynb\" target=\"_parent\"><img src=\"https://colab.research.google.com/assets/colab-badge.svg\" alt=\"Open In Colab\"/></a>"
      ]
    },
    {
      "cell_type": "markdown",
      "source": [
        "Los vectores son reservas de memoria para almacenar información, solo puede ser de un tipo, si es númerico, es númerico, si es texto, debe continuar siendo texto, esto aplica para las matrices. Los arreglos son identificadores son estáticos, esto significa que es otra forma de definir, variables y constantes."
      ],
      "metadata": {
        "id": "hlmvTW1ImoyH"
      }
    },
    {
      "cell_type": "code",
      "source": [
        "import numpy as np\n",
        "vector = np.aray ([1, 2, 3, 4, 5])\n",
        "print(vector)\n",
        "\"\"\"Los vectores no son como las listas, no tienen un método end()\n",
        "para agregar elementos    \"vectores\" Unknown word.\n",
        "o tienen un método pop() para eliminar elementos, pero sí tienen\n",
        "método reshape() para cambiar su forma, adicionalmente despues\n",
        "creado no se puede cambiar el tamaño del vector\"\"\"  \"tienen\" Unknown word.\n",
        "vector1 = np.zeros(5)\n",
        "print(vector2)\n",
        "vector2 = np.ones(5)\n",
        "print(vector2)\n",
        "vector3 = np.arange(1,10)\n",
        "print(\"rango\",vector3)\n",
        "vector4 = np.linspace(1,10,5)\n",
        "print(\"linspace\",vector4)\n",
        "vector5 = np.random.rand(10)\n",
        "print(\"random\",vector5)\n",
        "vector6 = np.random.randint(1,10,10)\n",
        "print(\"randint\",vector6)\n",
        "\n"
      ],
      "metadata": {
        "id": "NAnLPJUsq3Tm"
      },
      "execution_count": null,
      "outputs": []
    }
  ]
}